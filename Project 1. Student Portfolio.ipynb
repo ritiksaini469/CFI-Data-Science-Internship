{
 "cells": [
  {
   "cell_type": "markdown",
   "id": "ae8a2130",
   "metadata": {},
   "source": [
    "# Student Portfolio\n",
    "\n"
   ]
  },
  {
   "cell_type": "code",
   "execution_count": 3,
   "id": "ff12d9ca",
   "metadata": {},
   "outputs": [
    {
     "name": "stdout",
     "output_type": "stream",
     "text": [
      "Enter Your FirstName \n",
      "Ritik\n",
      "Enter Your LastName \n",
      "Saini\n",
      "Enter Your Class\n",
      "12\n",
      "Enter Your Division\n",
      "a\n",
      "Enter Your Roll Number\n",
      "19\n",
      "Enter Subject1\n",
      "Mathematics\n",
      "Enter Subject2\n",
      "Chemistry\n",
      "Enter Subject3\n",
      "Physics\n",
      "Enter Percentage\n",
      "89.2\n"
     ]
    }
   ],
   "source": [
    "firstName=str(input(\"Enter Your FirstName \\n\"))\n",
    "lastName=str(input(\"Enter Your LastName \\n\"))\n",
    "\n",
    "std=int(input(\"Enter Your Class\\n\"))\n",
    "division=str(input(\"Enter Your Division\\n\"))\n",
    "rollNo=int(input(\"Enter Your Roll Number\\n\"))\n",
    "\n",
    "sub1=(str(input(\"Enter Subject1\\n\")))\n",
    "sub2=(str(input(\"Enter Subject2\\n\")))\n",
    "sub3=(str(input(\"Enter Subject3\\n\")))\n",
    "\n",
    "studentPercent=float(input(\"Enter Percentage\\n\"))\n",
    "\n"
   ]
  },
  {
   "cell_type": "code",
   "execution_count": 55,
   "id": "bfcfd3b4",
   "metadata": {},
   "outputs": [
    {
     "name": "stdout",
     "output_type": "stream",
     "text": [
      "===============Student Info===============\n",
      "\n",
      "The First Name of the Stduent is : Ritik\n",
      "The Last Name of the Stduent is : Saini\n",
      "Hello RITIK SAINI\n",
      "\n",
      "==============================\n",
      "\n",
      "RITIK is in 12 Class & A Division\n",
      "Roll Number: 19\n",
      "\n",
      "RITIK has chosen the Below 3 subjects\n",
      "Subject 1 : Mathematics\n",
      "Subject 2 : Chemistry\n",
      "Subject 3 : Physics\n",
      "RITIK has scored 89.2 in Final Exam.\n",
      "\n",
      "==============================\n",
      "\n",
      "Congratulations & Have a successful year ahead.\n",
      "\n",
      "==============================\n",
      "\n"
     ]
    }
   ],
   "source": [
    "print(\"===============Student Info===============\\n\")\n",
    "print(\"The First Name of the Stduent is : \" +firstName)\n",
    "print(\"The Last Name of the Stduent is : \" +lastName)\n",
    "print(\"Hello \" + firstName.upper()+\" \"+lastName.upper()+\"\\n\")\n",
    "print(\"=\"*30+\"\\n\")\n",
    "print(firstName.upper()+\" is in \"+str(std),\"Class & \"+division.upper()+\" Division\")\n",
    "print(\"Roll Number: \"+str(rollNo)+\"\\n\")\n",
    "print(firstName.upper()+\" has chosen the Below 3 subjects\")\n",
    "print(\"Subject 1 : \"+sub1)\n",
    "print(\"Subject 2 : \"+sub2)\n",
    "print(\"Subject 3 : \"+sub3)\n",
    "print(firstName.upper()+\" has scored \"+str(studentPercent)+\" in Final Exam.\\n\")\n",
    "print(\"=\"*30+\"\\n\")\n",
    "print(\"Congratulations & Have a successful year ahead.\\n\")\n",
    "print(\"=\"*30+\"\\n\")\n"
   ]
  },
  {
   "cell_type": "code",
   "execution_count": null,
   "id": "5db0f9d4",
   "metadata": {},
   "outputs": [],
   "source": []
  }
 ],
 "metadata": {
  "kernelspec": {
   "display_name": "Python 3 (ipykernel)",
   "language": "python",
   "name": "python3"
  },
  "language_info": {
   "codemirror_mode": {
    "name": "ipython",
    "version": 3
   },
   "file_extension": ".py",
   "mimetype": "text/x-python",
   "name": "python",
   "nbconvert_exporter": "python",
   "pygments_lexer": "ipython3",
   "version": "3.9.12"
  }
 },
 "nbformat": 4,
 "nbformat_minor": 5
}
