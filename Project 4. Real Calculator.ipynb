{
 "cells": [
  {
   "cell_type": "code",
   "execution_count": 24,
   "id": "7d407629",
   "metadata": {
    "scrolled": true
   },
   "outputs": [
    {
     "name": "stdout",
     "output_type": "stream",
     "text": [
      "Enter the Operator: +,-,*,/\n",
      "*\n",
      "Enter Your First Number: 12\n",
      "Enter Your Second Number: 4\n",
      "12 * 4 = 48\n"
     ]
    }
   ],
   "source": [
    "\n",
    "def add(num1,num2):\n",
    "    result=num1+num2\n",
    "    print(num1,\"+\",num2,\"=\",result)\n",
    "    \n",
    "def sub(num1,num2):\n",
    "    result=num1-num2\n",
    "    print(num1,\"-\",num2,\"=\",result)\n",
    "    \n",
    "def mult(num1,num2):\n",
    "    result=num1*num2\n",
    "    print(num1,\"*\",num2,\"=\",result)\n",
    "    \n",
    "def div(num1,num2):\n",
    "    result=num1/num2\n",
    "    print(num1,\"/\",num2,\"=\",result)\n",
    "    \n",
    "choice=input(\"Enter the Operator: +,-,*,/\\n\")\n",
    "firstnum=int(input(\"Enter Your First Number: \"))\n",
    "secondnum=int(input(\"Enter Your Second Number: \"))\n",
    "\n",
    "if choice==\"+\":\n",
    "    add(firstnum,secondnum)\n",
    "elif choice==\"-\":\n",
    "    sub=(firstnum,secondnum)\n",
    "elif choice==\"*\":\n",
    "    mult(firstnum,secondnum)\n",
    "elif choice==\"/\":\n",
    "    div=(firstnum,secondnum)\n",
    "else:\n",
    "    4\n",
    "    print(\"============================\\n\",\"Invalid Type Error! Type something like -\\n\",\"Enter the Operator: +,-,*,/\\n\",\"*\\n\",\"Enter Your First Number: 12\\n\",\"Enter Your Second Number: 4\\n\",\"12 * 4 = 48\")\n",
    "         \n",
    "    \n"
   ]
  },
  {
   "cell_type": "code",
   "execution_count": null,
   "id": "cf2c90e5",
   "metadata": {},
   "outputs": [],
   "source": []
  }
 ],
 "metadata": {
  "kernelspec": {
   "display_name": "Python 3 (ipykernel)",
   "language": "python",
   "name": "python3"
  },
  "language_info": {
   "codemirror_mode": {
    "name": "ipython",
    "version": 3
   },
   "file_extension": ".py",
   "mimetype": "text/x-python",
   "name": "python",
   "nbconvert_exporter": "python",
   "pygments_lexer": "ipython3",
   "version": "3.9.12"
  }
 },
 "nbformat": 4,
 "nbformat_minor": 5
}
