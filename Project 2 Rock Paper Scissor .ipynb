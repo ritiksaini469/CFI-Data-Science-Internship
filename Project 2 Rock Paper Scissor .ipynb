{
 "cells": [
  {
   "cell_type": "markdown",
   "id": "fe4478ac",
   "metadata": {},
   "source": [
    "# Rock, Paper, Scissor"
   ]
  },
  {
   "cell_type": "code",
   "execution_count": 1,
   "id": "e5b37d1f",
   "metadata": {
    "scrolled": true
   },
   "outputs": [
    {
     "name": "stdout",
     "output_type": "stream",
     "text": [
      "Lets Play Rock, Paper And Scissor\n",
      "Choose Between r/p/s [Rock, Paper or Scissor]\n",
      "r\n",
      "Choose Between r/p/s [Rock, Paper or Scissor]\n",
      "s\n",
      "Player1 choose r and Player2 choose s\n",
      "Player1 has won the Game\n"
     ]
    }
   ],
   "source": [
    "# User Input\n",
    "print(\"Lets Play Rock, Paper And Scissor\")\n",
    "Player1 = str(input(\"Choose Between r/p/s [Rock, Paper or Scissor]\\n\"))\n",
    "Player2 = str(input(\"Choose Between r/p/s [Rock, Paper or Scissor]\\n\"))\n",
    "##Logic Using Conditional Statement\n",
    "if  (Player1==\"r\" and Player2==\"r\") or (Player1==\"p\" and Player2==\"p\") or (Player1==\"s\" and Player2==\"s\"):\n",
    "    print(\"Player1 choose {option1} and Player2 choose {option2}\".format(R1=Player1,option2=Player2))\n",
    "    print(\"That's a tie\")\n",
    "elif (Player1==\"p\" and Player2==\"r\") or (Player1==\"r\" and Player2==\"s\") or (Player1==\"s\" and Player2==\"p\"):\n",
    "    print(\"Player1 choose {option1} and Player2 choose {option2}\".format(option1=Player1,option2=Player2))\n",
    "    print(\"Player1 has won the Game\")\n",
    "elif (Player1==\"r\" and Player2==\"p\") or (Player1==\"p\" and Player2==\"s\") or (Player1==\"s\" and Player2==\"r\"):\n",
    "    print(\"Player1 choose {option1} and Player2 choose {option2}\".format(option1=Player1,option2=Player2))\n",
    "    print(\"Player2 has won the Game\")\n",
    "else:\n",
    "    print(\"==========Error==========\\nPlease Choose Correct Option\")\n",
    "    "
   ]
  },
  {
   "cell_type": "code",
   "execution_count": null,
   "id": "32e67d1f",
   "metadata": {},
   "outputs": [],
   "source": []
  },
  {
   "cell_type": "code",
   "execution_count": null,
   "id": "405505bb",
   "metadata": {},
   "outputs": [],
   "source": []
  }
 ],
 "metadata": {
  "kernelspec": {
   "display_name": "Python 3 (ipykernel)",
   "language": "python",
   "name": "python3"
  },
  "language_info": {
   "codemirror_mode": {
    "name": "ipython",
    "version": 3
   },
   "file_extension": ".py",
   "mimetype": "text/x-python",
   "name": "python",
   "nbconvert_exporter": "python",
   "pygments_lexer": "ipython3",
   "version": "3.9.12"
  }
 },
 "nbformat": 4,
 "nbformat_minor": 5
}
